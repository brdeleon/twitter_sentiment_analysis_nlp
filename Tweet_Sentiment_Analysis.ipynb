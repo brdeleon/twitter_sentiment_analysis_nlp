{
 "cells": [
  {
   "cell_type": "markdown",
   "id": "d37fbde6",
   "metadata": {},
   "source": [
    "# Twitter Sentiment Analysis\n",
    "Author: Brenda De Leon"
   ]
  },
  {
   "cell_type": "markdown",
   "id": "0cb4d5d5",
   "metadata": {},
   "source": [
    "<img src=“url/filename.gif” alt=“Alt text” title=“Title text” />\n",
    "### Overview\n",
    "### Business Understanding"
   ]
  },
  {
   "cell_type": "markdown",
   "id": "55412b8f",
   "metadata": {},
   "source": [
    "### Data Understanding\n",
    "\n",
    "#### Data Source\n",
    "##### Data Limitations:\n",
    "#### Features\n",
    "#### Target"
   ]
  },
  {
   "cell_type": "code",
   "execution_count": 120,
   "id": "c6ff0b66",
   "metadata": {
    "scrolled": true
   },
   "outputs": [],
   "source": [
    "# importing relevant libraries\n",
    "# !pip install wordcloud\n",
    "import pandas as pd\n",
    "import seaborn as sns\n",
    "sns.set_style('darkgrid')\n",
    "import matplotlib.pyplot as plt\n",
    "from matplotlib.ticker import MaxNLocator\n",
    "import numpy as np\n",
    "import warnings\n",
    "warnings.filterwarnings(\"ignore\")\n",
    "import re\n",
    "import string\n",
    "from textwrap import wrap\n",
    "from sklearn.model_selection import train_test_split\n",
    "from sklearn.naive_bayes import MultinomialNB\n",
    "from sklearn.model_selection import cross_val_score\n",
    "from nltk import FreqDist \n",
    "from nltk.tokenize import RegexpTokenizer\n",
    "from nltk.corpus import stopwords\n",
    "from wordcloud import WordCloud\n",
    "from nltk.stem.wordnet import WordNetLemmatizer\n",
    "from nltk.stem.snowball import SnowballStemmer\n",
    "from sklearn.feature_extraction.text import TfidfVectorizer\n",
    "from sklearn.metrics import plot_confusion_matrix\n",
    "from sklearn.model_selection import GridSearchCV\n",
    "from sklearn.tree import DecisionTreeClassifier\n",
    "from sklearn.ensemble import AdaBoostClassifier\n",
    "from sklearn.metrics import classification_report"
   ]
  },
  {
   "cell_type": "markdown",
   "id": "bc3db547",
   "metadata": {},
   "source": [
    "### Data\n",
    "We will import the data and review content to assess next steps. "
   ]
  },
  {
   "cell_type": "code",
   "execution_count": 121,
   "id": "299c2198",
   "metadata": {},
   "outputs": [
    {
     "data": {
      "text/html": [
       "<div>\n",
       "<style scoped>\n",
       "    .dataframe tbody tr th:only-of-type {\n",
       "        vertical-align: middle;\n",
       "    }\n",
       "\n",
       "    .dataframe tbody tr th {\n",
       "        vertical-align: top;\n",
       "    }\n",
       "\n",
       "    .dataframe thead th {\n",
       "        text-align: right;\n",
       "    }\n",
       "</style>\n",
       "<table border=\"1\" class=\"dataframe\">\n",
       "  <thead>\n",
       "    <tr style=\"text-align: right;\">\n",
       "      <th></th>\n",
       "      <th>tweet_text</th>\n",
       "      <th>emotion_in_tweet_is_directed_at</th>\n",
       "      <th>is_there_an_emotion_directed_at_a_brand_or_product</th>\n",
       "    </tr>\n",
       "  </thead>\n",
       "  <tbody>\n",
       "    <tr>\n",
       "      <th>0</th>\n",
       "      <td>.@wesley83 I have a 3G iPhone. After 3 hrs twe...</td>\n",
       "      <td>iPhone</td>\n",
       "      <td>Negative emotion</td>\n",
       "    </tr>\n",
       "    <tr>\n",
       "      <th>1</th>\n",
       "      <td>@jessedee Know about @fludapp ? Awesome iPad/i...</td>\n",
       "      <td>iPad or iPhone App</td>\n",
       "      <td>Positive emotion</td>\n",
       "    </tr>\n",
       "    <tr>\n",
       "      <th>2</th>\n",
       "      <td>@swonderlin Can not wait for #iPad 2 also. The...</td>\n",
       "      <td>iPad</td>\n",
       "      <td>Positive emotion</td>\n",
       "    </tr>\n",
       "    <tr>\n",
       "      <th>3</th>\n",
       "      <td>@sxsw I hope this year's festival isn't as cra...</td>\n",
       "      <td>iPad or iPhone App</td>\n",
       "      <td>Negative emotion</td>\n",
       "    </tr>\n",
       "    <tr>\n",
       "      <th>4</th>\n",
       "      <td>@sxtxstate great stuff on Fri #SXSW: Marissa M...</td>\n",
       "      <td>Google</td>\n",
       "      <td>Positive emotion</td>\n",
       "    </tr>\n",
       "  </tbody>\n",
       "</table>\n",
       "</div>"
      ],
      "text/plain": [
       "                                          tweet_text  \\\n",
       "0  .@wesley83 I have a 3G iPhone. After 3 hrs twe...   \n",
       "1  @jessedee Know about @fludapp ? Awesome iPad/i...   \n",
       "2  @swonderlin Can not wait for #iPad 2 also. The...   \n",
       "3  @sxsw I hope this year's festival isn't as cra...   \n",
       "4  @sxtxstate great stuff on Fri #SXSW: Marissa M...   \n",
       "\n",
       "  emotion_in_tweet_is_directed_at  \\\n",
       "0                          iPhone   \n",
       "1              iPad or iPhone App   \n",
       "2                            iPad   \n",
       "3              iPad or iPhone App   \n",
       "4                          Google   \n",
       "\n",
       "  is_there_an_emotion_directed_at_a_brand_or_product  \n",
       "0                                   Negative emotion  \n",
       "1                                   Positive emotion  \n",
       "2                                   Positive emotion  \n",
       "3                                   Negative emotion  \n",
       "4                                   Positive emotion  "
      ]
     },
     "execution_count": 121,
     "metadata": {},
     "output_type": "execute_result"
    }
   ],
   "source": [
    "# importing data\n",
    "df = pd.read_csv('data/judge_1377884607_tweet_product_company.csv')\n",
    "# previewing data\n",
    "df.head()"
   ]
  },
  {
   "cell_type": "code",
   "execution_count": 122,
   "id": "c9772000",
   "metadata": {},
   "outputs": [
    {
     "name": "stdout",
     "output_type": "stream",
     "text": [
      "<class 'pandas.core.frame.DataFrame'>\n",
      "RangeIndex: 8721 entries, 0 to 8720\n",
      "Data columns (total 3 columns):\n",
      " #   Column                                              Non-Null Count  Dtype \n",
      "---  ------                                              --------------  ----- \n",
      " 0   tweet_text                                          8720 non-null   object\n",
      " 1   emotion_in_tweet_is_directed_at                     3169 non-null   object\n",
      " 2   is_there_an_emotion_directed_at_a_brand_or_product  8721 non-null   object\n",
      "dtypes: object(3)\n",
      "memory usage: 204.5+ KB\n"
     ]
    }
   ],
   "source": [
    "# viewing columns, # of columns, dtypes, # of rows, # of non nulls\n",
    "df.info()"
   ]
  },
  {
   "cell_type": "code",
   "execution_count": 123,
   "id": "c515ef16",
   "metadata": {
    "scrolled": false
   },
   "outputs": [
    {
     "data": {
      "text/html": [
       "<div>\n",
       "<style scoped>\n",
       "    .dataframe tbody tr th:only-of-type {\n",
       "        vertical-align: middle;\n",
       "    }\n",
       "\n",
       "    .dataframe tbody tr th {\n",
       "        vertical-align: top;\n",
       "    }\n",
       "\n",
       "    .dataframe thead th {\n",
       "        text-align: right;\n",
       "    }\n",
       "</style>\n",
       "<table border=\"1\" class=\"dataframe\">\n",
       "  <thead>\n",
       "    <tr style=\"text-align: right;\">\n",
       "      <th></th>\n",
       "      <th>tweet_text</th>\n",
       "      <th>emotion_in_tweet_is_directed_at</th>\n",
       "      <th>is_there_an_emotion_directed_at_a_brand_or_product</th>\n",
       "    </tr>\n",
       "  </thead>\n",
       "  <tbody>\n",
       "    <tr>\n",
       "      <th>count</th>\n",
       "      <td>8720</td>\n",
       "      <td>3169</td>\n",
       "      <td>8721</td>\n",
       "    </tr>\n",
       "    <tr>\n",
       "      <th>unique</th>\n",
       "      <td>8693</td>\n",
       "      <td>9</td>\n",
       "      <td>4</td>\n",
       "    </tr>\n",
       "    <tr>\n",
       "      <th>top</th>\n",
       "      <td>RT @mention Marissa Mayer: Google Will Connect...</td>\n",
       "      <td>iPad</td>\n",
       "      <td>No emotion toward brand or product</td>\n",
       "    </tr>\n",
       "    <tr>\n",
       "      <th>freq</th>\n",
       "      <td>5</td>\n",
       "      <td>910</td>\n",
       "      <td>5156</td>\n",
       "    </tr>\n",
       "  </tbody>\n",
       "</table>\n",
       "</div>"
      ],
      "text/plain": [
       "                                               tweet_text  \\\n",
       "count                                                8720   \n",
       "unique                                               8693   \n",
       "top     RT @mention Marissa Mayer: Google Will Connect...   \n",
       "freq                                                    5   \n",
       "\n",
       "       emotion_in_tweet_is_directed_at  \\\n",
       "count                             3169   \n",
       "unique                               9   \n",
       "top                               iPad   \n",
       "freq                               910   \n",
       "\n",
       "       is_there_an_emotion_directed_at_a_brand_or_product  \n",
       "count                                                8721  \n",
       "unique                                                  4  \n",
       "top                    No emotion toward brand or product  \n",
       "freq                                                 5156  "
      ]
     },
     "execution_count": 123,
     "metadata": {},
     "output_type": "execute_result"
    }
   ],
   "source": [
    "# inspecting data value ranges\n",
    "df.describe()"
   ]
  },
  {
   "cell_type": "markdown",
   "id": "ab980395",
   "metadata": {},
   "source": [
    "#### Renaming Columns\n",
    "The column names are not convenient. We will rename column titles to make them succinct and descriptive. We will preview column values to assure most accurate new titles."
   ]
  },
  {
   "cell_type": "code",
   "execution_count": 124,
   "id": "2fd72172",
   "metadata": {
    "scrolled": true
   },
   "outputs": [
    {
     "data": {
      "text/plain": [
       "RT @mention Marissa Mayer: Google Will Connect the Digital &amp; Physical Worlds Through Mobile - {link} #sxsw                                      5\n",
       "RT @mention Marissa Mayer: Google Will Connect the Digital &amp; Physical Worlds Through Mobile - {link} #SXSW                                      4\n",
       "RT @mention Google to Launch Major New Social Network Called Circles, Possibly Today {link} #sxsw                                                   4\n",
       "RT @mention Google to Launch Major New Social Network Called Circles, Possibly Today {link} #SXSW                                                   3\n",
       "Oh. My. God. The #SXSW app for iPad is pure, unadulterated awesome. It's easier to browse events on iPad than on the website!!!                     2\n",
       "Marissa Mayer: Google Will Connect the Digital &amp; Physical Worlds Through Mobile - {link} #sxsw                                                  2\n",
       "I just noticed DST is coming this weekend. How many iPhone users will be an hour late at SXSW come Sunday morning? #SXSW #iPhone                    2\n",
       "Counting down the days to #sxsw plus strong Canadian dollar means stock up on Apple gear                                                            2\n",
       "#SXSW is just starting, #CTIA is around the corner and #googleio is only a hop skip and a jump from there, good time to be an #android fan          2\n",
       "RT @mention ��� GO BEYOND BORDERS! ��_ {link} ��_ #edchat #musedchat #sxsw #sxswi #classical #newTwitter                                            2\n",
       "RT @mention ��� Happy Woman's Day! Make love, not fuss! ��_ {link} ��_ #edchat #musedchat #sxsw #sxswi #classical #newTwitter                       2\n",
       "Win free ipad 2 from webdoc.com #sxsw RT                                                                                                            2\n",
       "Win free iPad 2 from webdoc.com #sxsw RT                                                                                                            2\n",
       "Before It Even Begins, Apple Wins #SXSW {link}                                                                                                      2\n",
       "Really enjoying the changes in Gowalla 3.0 for Android! Looking forward to seeing what else they &amp; Foursquare have up their sleeves at #SXSW    2\n",
       "RT @mention RT @mention It's not a rumor: Apple is opening up a temporary store in downtown Austin for #SXSW and the iPad 2 launch {link}           2\n",
       "RT @mention RT @mention Google to Launch Major New Social Network Called Circles, Possibly Today {link} #sxsw                                       2\n",
       "Google to Launch Major New Social Network Called Circles, Possibly Today {link} #sxsw                                                               2\n",
       "Need to buy an iPad2 while I'm in Austin at #sxsw. Not sure if I'll need to Q up at an Austin Apple store?                                          2\n",
       "Nice gesture - #Lonely-Planet makes #Austin guide on iPhone free for #SXSW {link}                                                                   1\n",
       "��� As right as rain! ��_ {link} ��_ #edchat #musedchat #sxsw #sxswi\\n#classical #newTwitter                                                        1\n",
       "@mention ummm - are u a dinosaur?   #SXSW question are u a dinosaur, shark, ninja or pirate.   #google party like it's 1986.                        1\n",
       "RT @mention Just talked to Mike Tyson #SXSW about his new iPhone game, which lets you fight Pauly D and other celebs. {link}                        1\n",
       "If I were at #SXSW I could spend it all at the @mention Teaching Theater alone; just look at that schedule: {link}                                  1\n",
       "jamin to the #SXSW itunes album {link}                                                                                                              1\n",
       "Name: tweet_text, dtype: int64"
      ]
     },
     "execution_count": 124,
     "metadata": {},
     "output_type": "execute_result"
    }
   ],
   "source": [
    "# previewing 'tweet_text' values\n",
    "df['tweet_text'].value_counts(dropna=False)[:25]"
   ]
  },
  {
   "cell_type": "code",
   "execution_count": 125,
   "id": "131c10af",
   "metadata": {},
   "outputs": [
    {
     "data": {
      "text/plain": [
       "NaN                                5552\n",
       "iPad                                910\n",
       "Apple                               640\n",
       "iPad or iPhone App                  451\n",
       "Google                              412\n",
       "iPhone                              288\n",
       "Other Google product or service     282\n",
       "Android App                          78\n",
       "Android                              74\n",
       "Other Apple product or service       34\n",
       "Name: emotion_in_tweet_is_directed_at, dtype: int64"
      ]
     },
     "execution_count": 125,
     "metadata": {},
     "output_type": "execute_result"
    }
   ],
   "source": [
    "# previewing 'emotion_in_tweet_is_directed_at' values\n",
    "df['emotion_in_tweet_is_directed_at'].value_counts(dropna=False)"
   ]
  },
  {
   "cell_type": "code",
   "execution_count": 126,
   "id": "881ad6fa",
   "metadata": {},
   "outputs": [
    {
     "data": {
      "text/plain": [
       "No emotion toward brand or product    5156\n",
       "Positive emotion                      2869\n",
       "Negative emotion                       545\n",
       "I can't tell                           151\n",
       "Name: is_there_an_emotion_directed_at_a_brand_or_product, dtype: int64"
      ]
     },
     "execution_count": 126,
     "metadata": {},
     "output_type": "execute_result"
    }
   ],
   "source": [
    "# previewing 'is_there_an_emotion_directed_at_a_brand_or_product' values\n",
    "df['is_there_an_emotion_directed_at_a_brand_or_product'].value_counts(dropna=False)"
   ]
  },
  {
   "cell_type": "code",
   "execution_count": 127,
   "id": "176ccbe5",
   "metadata": {},
   "outputs": [],
   "source": [
    "# renaming columns \n",
    "df = df.rename(columns = {'is_there_an_emotion_directed_at_a_brand_or_product':'Sentiment',\n",
    "                          'tweet_text':'Tweet', \n",
    "                          'emotion_in_tweet_is_directed_at':'Brand_or_Product'}\n",
    "              )"
   ]
  },
  {
   "cell_type": "markdown",
   "id": "cb44141d",
   "metadata": {},
   "source": [
    "#### Handling Nulls\n",
    "Missing values are incompatible with scikit-learn models, all values are expected to have and hold meaning. [(sci-kit learn)](https://scikit-learn.org/stable/modules/impute.html)"
   ]
  },
  {
   "cell_type": "code",
   "execution_count": 128,
   "id": "61f06a6a",
   "metadata": {
    "scrolled": false
   },
   "outputs": [
    {
     "data": {
      "text/plain": [
       "Tweet                  1\n",
       "Brand_or_Product    5552\n",
       "Sentiment              0\n",
       "dtype: int64"
      ]
     },
     "execution_count": 128,
     "metadata": {},
     "output_type": "execute_result"
    }
   ],
   "source": [
    "# checking for nulls and confirming new column titles\n",
    "df.isnull().sum()"
   ]
  },
  {
   "cell_type": "code",
   "execution_count": 129,
   "id": "10a177df",
   "metadata": {},
   "outputs": [
    {
     "data": {
      "text/html": [
       "<div>\n",
       "<style scoped>\n",
       "    .dataframe tbody tr th:only-of-type {\n",
       "        vertical-align: middle;\n",
       "    }\n",
       "\n",
       "    .dataframe tbody tr th {\n",
       "        vertical-align: top;\n",
       "    }\n",
       "\n",
       "    .dataframe thead th {\n",
       "        text-align: right;\n",
       "    }\n",
       "</style>\n",
       "<table border=\"1\" class=\"dataframe\">\n",
       "  <thead>\n",
       "    <tr style=\"text-align: right;\">\n",
       "      <th></th>\n",
       "      <th>Tweet</th>\n",
       "      <th>Brand_or_Product</th>\n",
       "      <th>Sentiment</th>\n",
       "    </tr>\n",
       "  </thead>\n",
       "  <tbody>\n",
       "    <tr>\n",
       "      <th>6</th>\n",
       "      <td>NaN</td>\n",
       "      <td>NaN</td>\n",
       "      <td>No emotion toward brand or product</td>\n",
       "    </tr>\n",
       "  </tbody>\n",
       "</table>\n",
       "</div>"
      ],
      "text/plain": [
       "  Tweet Brand_or_Product                           Sentiment\n",
       "6   NaN              NaN  No emotion toward brand or product"
      ]
     },
     "execution_count": 129,
     "metadata": {},
     "output_type": "execute_result"
    }
   ],
   "source": [
    "# inspecting the single null in tweet column\n",
    "df.loc[df['Tweet'].isnull()]"
   ]
  },
  {
   "cell_type": "code",
   "execution_count": 130,
   "id": "72d10214",
   "metadata": {
    "scrolled": true
   },
   "outputs": [
    {
     "data": {
      "text/plain": [
       "0"
      ]
     },
     "execution_count": 130,
     "metadata": {},
     "output_type": "execute_result"
    }
   ],
   "source": [
    "# dropping single null in tweet column\n",
    "df.dropna(subset=['Tweet'], inplace = True)\n",
    "# confirming null was dropped\n",
    "df['Tweet'].isnull().sum()"
   ]
  },
  {
   "cell_type": "markdown",
   "id": "7086bebf",
   "metadata": {},
   "source": [
    "We dropped the single null in the tweet column as it's other values were also indeterminate. We will now address the remaining null values."
   ]
  },
  {
   "cell_type": "code",
   "execution_count": 131,
   "id": "3fde9fb1",
   "metadata": {
    "scrolled": true
   },
   "outputs": [
    {
     "data": {
      "text/html": [
       "<div>\n",
       "<style scoped>\n",
       "    .dataframe tbody tr th:only-of-type {\n",
       "        vertical-align: middle;\n",
       "    }\n",
       "\n",
       "    .dataframe tbody tr th {\n",
       "        vertical-align: top;\n",
       "    }\n",
       "\n",
       "    .dataframe thead th {\n",
       "        text-align: right;\n",
       "    }\n",
       "</style>\n",
       "<table border=\"1\" class=\"dataframe\">\n",
       "  <thead>\n",
       "    <tr style=\"text-align: right;\">\n",
       "      <th></th>\n",
       "      <th>Tweet</th>\n",
       "      <th>Brand_or_Product</th>\n",
       "      <th>Sentiment</th>\n",
       "    </tr>\n",
       "  </thead>\n",
       "  <tbody>\n",
       "    <tr>\n",
       "      <th>5</th>\n",
       "      <td>@teachntech00 New iPad Apps For #SpeechTherapy...</td>\n",
       "      <td>NaN</td>\n",
       "      <td>No emotion toward brand or product</td>\n",
       "    </tr>\n",
       "    <tr>\n",
       "      <th>16</th>\n",
       "      <td>Holler Gram for iPad on the iTunes App Store -...</td>\n",
       "      <td>NaN</td>\n",
       "      <td>No emotion toward brand or product</td>\n",
       "    </tr>\n",
       "    <tr>\n",
       "      <th>32</th>\n",
       "      <td>Attn: All  #SXSW frineds, @mention Register fo...</td>\n",
       "      <td>NaN</td>\n",
       "      <td>No emotion toward brand or product</td>\n",
       "    </tr>\n",
       "    <tr>\n",
       "      <th>33</th>\n",
       "      <td>Anyone at  #sxsw want to sell their old iPad?</td>\n",
       "      <td>NaN</td>\n",
       "      <td>No emotion toward brand or product</td>\n",
       "    </tr>\n",
       "    <tr>\n",
       "      <th>34</th>\n",
       "      <td>Anyone at  #SXSW who bought the new iPad want ...</td>\n",
       "      <td>NaN</td>\n",
       "      <td>No emotion toward brand or product</td>\n",
       "    </tr>\n",
       "    <tr>\n",
       "      <th>...</th>\n",
       "      <td>...</td>\n",
       "      <td>...</td>\n",
       "      <td>...</td>\n",
       "    </tr>\n",
       "    <tr>\n",
       "      <th>8715</th>\n",
       "      <td>@mention Yup, but I don't have a third app yet...</td>\n",
       "      <td>NaN</td>\n",
       "      <td>No emotion toward brand or product</td>\n",
       "    </tr>\n",
       "    <tr>\n",
       "      <th>8717</th>\n",
       "      <td>Wave, buzz... RT @mention We interrupt your re...</td>\n",
       "      <td>NaN</td>\n",
       "      <td>No emotion toward brand or product</td>\n",
       "    </tr>\n",
       "    <tr>\n",
       "      <th>8718</th>\n",
       "      <td>Google's Zeiger, a physician never reported po...</td>\n",
       "      <td>NaN</td>\n",
       "      <td>No emotion toward brand or product</td>\n",
       "    </tr>\n",
       "    <tr>\n",
       "      <th>8719</th>\n",
       "      <td>Some Verizon iPhone customers complained their...</td>\n",
       "      <td>NaN</td>\n",
       "      <td>No emotion toward brand or product</td>\n",
       "    </tr>\n",
       "    <tr>\n",
       "      <th>8720</th>\n",
       "      <td>�ϡ�����_��ʋ�΋�ҋ�������⋁_��������_���RT @mentio...</td>\n",
       "      <td>NaN</td>\n",
       "      <td>No emotion toward brand or product</td>\n",
       "    </tr>\n",
       "  </tbody>\n",
       "</table>\n",
       "<p>5551 rows × 3 columns</p>\n",
       "</div>"
      ],
      "text/plain": [
       "                                                  Tweet Brand_or_Product  \\\n",
       "5     @teachntech00 New iPad Apps For #SpeechTherapy...              NaN   \n",
       "16    Holler Gram for iPad on the iTunes App Store -...              NaN   \n",
       "32    Attn: All  #SXSW frineds, @mention Register fo...              NaN   \n",
       "33        Anyone at  #sxsw want to sell their old iPad?              NaN   \n",
       "34    Anyone at  #SXSW who bought the new iPad want ...              NaN   \n",
       "...                                                 ...              ...   \n",
       "8715  @mention Yup, but I don't have a third app yet...              NaN   \n",
       "8717  Wave, buzz... RT @mention We interrupt your re...              NaN   \n",
       "8718  Google's Zeiger, a physician never reported po...              NaN   \n",
       "8719  Some Verizon iPhone customers complained their...              NaN   \n",
       "8720  �ϡ�����_��ʋ�΋�ҋ�������⋁_��������_���RT @mentio...              NaN   \n",
       "\n",
       "                               Sentiment  \n",
       "5     No emotion toward brand or product  \n",
       "16    No emotion toward brand or product  \n",
       "32    No emotion toward brand or product  \n",
       "33    No emotion toward brand or product  \n",
       "34    No emotion toward brand or product  \n",
       "...                                  ...  \n",
       "8715  No emotion toward brand or product  \n",
       "8717  No emotion toward brand or product  \n",
       "8718  No emotion toward brand or product  \n",
       "8719  No emotion toward brand or product  \n",
       "8720  No emotion toward brand or product  \n",
       "\n",
       "[5551 rows x 3 columns]"
      ]
     },
     "execution_count": 131,
     "metadata": {},
     "output_type": "execute_result"
    }
   ],
   "source": [
    "# inspecting the null values in product or service column\n",
    "df.loc[df['Brand_or_Product'].isnull()]"
   ]
  },
  {
   "cell_type": "markdown",
   "id": "b2f8a7dc",
   "metadata": {},
   "source": [
    "The null values in the brand or product column seem to coincide with the \"no emotion\" sentiment values. The missing value in the 'brand or product' column does not specify which service or product the \"no emotion\" sentiment is addressed towards. However, we can see the some of the coinciding tweets to reveal a specific possible product or service. We will fill in the nulls with 'Unknown' values and later revisit it to see if we can extract information from the tweet values to determine the actual 'brand or product' value."
   ]
  },
  {
   "cell_type": "code",
   "execution_count": 132,
   "id": "110f40a4",
   "metadata": {},
   "outputs": [
    {
     "data": {
      "text/plain": [
       "Tweet               0\n",
       "Brand_or_Product    0\n",
       "Sentiment           0\n",
       "dtype: int64"
      ]
     },
     "execution_count": 132,
     "metadata": {},
     "output_type": "execute_result"
    }
   ],
   "source": [
    "# fill in 'brand or product' nulls with 'Unknown' \n",
    "df['Brand_or_Product'].fillna(value='Unknown', inplace=True)\n",
    "# confirming no remaining nulls\n",
    "df.isnull().sum()"
   ]
  },
  {
   "cell_type": "markdown",
   "id": "44b8233a",
   "metadata": {},
   "source": [
    "#### Handling Duplicates\n",
    "We will analyze the duplicates to determine if they need to be removed."
   ]
  },
  {
   "cell_type": "code",
   "execution_count": 133,
   "id": "837e5906",
   "metadata": {},
   "outputs": [
    {
     "data": {
      "text/plain": [
       "22"
      ]
     },
     "execution_count": 133,
     "metadata": {},
     "output_type": "execute_result"
    }
   ],
   "source": [
    "# checking for duplicates\n",
    "df.duplicated().sum()"
   ]
  },
  {
   "cell_type": "code",
   "execution_count": 134,
   "id": "fc8cd427",
   "metadata": {},
   "outputs": [
    {
     "data": {
      "text/html": [
       "<div>\n",
       "<style scoped>\n",
       "    .dataframe tbody tr th:only-of-type {\n",
       "        vertical-align: middle;\n",
       "    }\n",
       "\n",
       "    .dataframe tbody tr th {\n",
       "        vertical-align: top;\n",
       "    }\n",
       "\n",
       "    .dataframe thead th {\n",
       "        text-align: right;\n",
       "    }\n",
       "</style>\n",
       "<table border=\"1\" class=\"dataframe\">\n",
       "  <thead>\n",
       "    <tr style=\"text-align: right;\">\n",
       "      <th></th>\n",
       "      <th>Tweet</th>\n",
       "      <th>Brand_or_Product</th>\n",
       "      <th>Sentiment</th>\n",
       "    </tr>\n",
       "  </thead>\n",
       "  <tbody>\n",
       "    <tr>\n",
       "      <th>7</th>\n",
       "      <td>#SXSW is just starting, #CTIA is around the co...</td>\n",
       "      <td>Android</td>\n",
       "      <td>Positive emotion</td>\n",
       "    </tr>\n",
       "    <tr>\n",
       "      <th>9</th>\n",
       "      <td>Counting down the days to #sxsw plus strong Ca...</td>\n",
       "      <td>Apple</td>\n",
       "      <td>Positive emotion</td>\n",
       "    </tr>\n",
       "    <tr>\n",
       "      <th>17</th>\n",
       "      <td>I just noticed DST is coming this weekend. How...</td>\n",
       "      <td>iPhone</td>\n",
       "      <td>Negative emotion</td>\n",
       "    </tr>\n",
       "    <tr>\n",
       "      <th>20</th>\n",
       "      <td>Need to buy an iPad2 while I'm in Austin at #s...</td>\n",
       "      <td>iPad</td>\n",
       "      <td>Positive emotion</td>\n",
       "    </tr>\n",
       "    <tr>\n",
       "      <th>21</th>\n",
       "      <td>Oh. My. God. The #SXSW app for iPad is pure, u...</td>\n",
       "      <td>iPad or iPhone App</td>\n",
       "      <td>Positive emotion</td>\n",
       "    </tr>\n",
       "    <tr>\n",
       "      <th>24</th>\n",
       "      <td>Really enjoying the changes in Gowalla 3.0 for...</td>\n",
       "      <td>Android App</td>\n",
       "      <td>Positive emotion</td>\n",
       "    </tr>\n",
       "    <tr>\n",
       "      <th>455</th>\n",
       "      <td>Before It Even Begins, Apple Wins #SXSW {link}</td>\n",
       "      <td>Apple</td>\n",
       "      <td>Positive emotion</td>\n",
       "    </tr>\n",
       "    <tr>\n",
       "      <th>457</th>\n",
       "      <td>Before It Even Begins, Apple Wins #SXSW {link}</td>\n",
       "      <td>Apple</td>\n",
       "      <td>Positive emotion</td>\n",
       "    </tr>\n",
       "    <tr>\n",
       "      <th>750</th>\n",
       "      <td>Google to Launch Major New Social Network Call...</td>\n",
       "      <td>Unknown</td>\n",
       "      <td>No emotion toward brand or product</td>\n",
       "    </tr>\n",
       "    <tr>\n",
       "      <th>752</th>\n",
       "      <td>Google to Launch Major New Social Network Call...</td>\n",
       "      <td>Unknown</td>\n",
       "      <td>No emotion toward brand or product</td>\n",
       "    </tr>\n",
       "    <tr>\n",
       "      <th>2136</th>\n",
       "      <td>Marissa Mayer: Google Will Connect the Digital...</td>\n",
       "      <td>Unknown</td>\n",
       "      <td>No emotion toward brand or product</td>\n",
       "    </tr>\n",
       "    <tr>\n",
       "      <th>2138</th>\n",
       "      <td>Marissa Mayer: Google Will Connect the Digital...</td>\n",
       "      <td>Unknown</td>\n",
       "      <td>No emotion toward brand or product</td>\n",
       "    </tr>\n",
       "    <tr>\n",
       "      <th>2437</th>\n",
       "      <td>Counting down the days to #sxsw plus strong Ca...</td>\n",
       "      <td>Apple</td>\n",
       "      <td>Positive emotion</td>\n",
       "    </tr>\n",
       "    <tr>\n",
       "      <th>3759</th>\n",
       "      <td>Really enjoying the changes in Gowalla 3.0 for...</td>\n",
       "      <td>Android App</td>\n",
       "      <td>Positive emotion</td>\n",
       "    </tr>\n",
       "    <tr>\n",
       "      <th>3771</th>\n",
       "      <td>#SXSW is just starting, #CTIA is around the co...</td>\n",
       "      <td>Android</td>\n",
       "      <td>Positive emotion</td>\n",
       "    </tr>\n",
       "    <tr>\n",
       "      <th>4669</th>\n",
       "      <td>Oh. My. God. The #SXSW app for iPad is pure, u...</td>\n",
       "      <td>iPad or iPhone App</td>\n",
       "      <td>Positive emotion</td>\n",
       "    </tr>\n",
       "    <tr>\n",
       "      <th>5105</th>\n",
       "      <td>RT @mention ��� GO BEYOND BORDERS! ��_ {link} ...</td>\n",
       "      <td>Unknown</td>\n",
       "      <td>No emotion toward brand or product</td>\n",
       "    </tr>\n",
       "    <tr>\n",
       "      <th>5107</th>\n",
       "      <td>RT @mention ��� GO BEYOND BORDERS! ��_ {link} ...</td>\n",
       "      <td>Unknown</td>\n",
       "      <td>No emotion toward brand or product</td>\n",
       "    </tr>\n",
       "    <tr>\n",
       "      <th>5108</th>\n",
       "      <td>RT @mention ��� Happy Woman's Day! Make love, ...</td>\n",
       "      <td>Unknown</td>\n",
       "      <td>No emotion toward brand or product</td>\n",
       "    </tr>\n",
       "    <tr>\n",
       "      <th>5110</th>\n",
       "      <td>RT @mention ��� Happy Woman's Day! Make love, ...</td>\n",
       "      <td>Unknown</td>\n",
       "      <td>No emotion toward brand or product</td>\n",
       "    </tr>\n",
       "    <tr>\n",
       "      <th>5648</th>\n",
       "      <td>RT @mention Google to Launch Major New Social ...</td>\n",
       "      <td>Unknown</td>\n",
       "      <td>No emotion toward brand or product</td>\n",
       "    </tr>\n",
       "    <tr>\n",
       "      <th>5649</th>\n",
       "      <td>RT @mention Google to Launch Major New Social ...</td>\n",
       "      <td>Unknown</td>\n",
       "      <td>No emotion toward brand or product</td>\n",
       "    </tr>\n",
       "    <tr>\n",
       "      <th>5650</th>\n",
       "      <td>RT @mention Google to Launch Major New Social ...</td>\n",
       "      <td>Unknown</td>\n",
       "      <td>No emotion toward brand or product</td>\n",
       "    </tr>\n",
       "    <tr>\n",
       "      <th>5651</th>\n",
       "      <td>RT @mention Google to Launch Major New Social ...</td>\n",
       "      <td>Unknown</td>\n",
       "      <td>No emotion toward brand or product</td>\n",
       "    </tr>\n",
       "    <tr>\n",
       "      <th>5652</th>\n",
       "      <td>RT @mention Google to Launch Major New Social ...</td>\n",
       "      <td>Unknown</td>\n",
       "      <td>No emotion toward brand or product</td>\n",
       "    </tr>\n",
       "    <tr>\n",
       "      <th>5653</th>\n",
       "      <td>RT @mention Google to Launch Major New Social ...</td>\n",
       "      <td>Unknown</td>\n",
       "      <td>No emotion toward brand or product</td>\n",
       "    </tr>\n",
       "    <tr>\n",
       "      <th>5654</th>\n",
       "      <td>RT @mention Google to Launch Major New Social ...</td>\n",
       "      <td>Unknown</td>\n",
       "      <td>No emotion toward brand or product</td>\n",
       "    </tr>\n",
       "    <tr>\n",
       "      <th>6061</th>\n",
       "      <td>RT @mention Marissa Mayer: Google Will Connect...</td>\n",
       "      <td>Google</td>\n",
       "      <td>Positive emotion</td>\n",
       "    </tr>\n",
       "    <tr>\n",
       "      <th>6063</th>\n",
       "      <td>RT @mention Marissa Mayer: Google Will Connect...</td>\n",
       "      <td>Unknown</td>\n",
       "      <td>No emotion toward brand or product</td>\n",
       "    </tr>\n",
       "    <tr>\n",
       "      <th>6064</th>\n",
       "      <td>RT @mention Marissa Mayer: Google Will Connect...</td>\n",
       "      <td>Unknown</td>\n",
       "      <td>No emotion toward brand or product</td>\n",
       "    </tr>\n",
       "    <tr>\n",
       "      <th>6065</th>\n",
       "      <td>RT @mention Marissa Mayer: Google Will Connect...</td>\n",
       "      <td>Google</td>\n",
       "      <td>Positive emotion</td>\n",
       "    </tr>\n",
       "    <tr>\n",
       "      <th>6066</th>\n",
       "      <td>RT @mention Marissa Mayer: Google Will Connect...</td>\n",
       "      <td>Unknown</td>\n",
       "      <td>No emotion toward brand or product</td>\n",
       "    </tr>\n",
       "    <tr>\n",
       "      <th>6067</th>\n",
       "      <td>RT @mention Marissa Mayer: Google Will Connect...</td>\n",
       "      <td>Google</td>\n",
       "      <td>Positive emotion</td>\n",
       "    </tr>\n",
       "    <tr>\n",
       "      <th>6068</th>\n",
       "      <td>RT @mention Marissa Mayer: Google Will Connect...</td>\n",
       "      <td>Unknown</td>\n",
       "      <td>No emotion toward brand or product</td>\n",
       "    </tr>\n",
       "    <tr>\n",
       "      <th>6069</th>\n",
       "      <td>RT @mention Marissa Mayer: Google Will Connect...</td>\n",
       "      <td>Unknown</td>\n",
       "      <td>No emotion toward brand or product</td>\n",
       "    </tr>\n",
       "    <tr>\n",
       "      <th>6313</th>\n",
       "      <td>RT @mention RT @mention Google to Launch Major...</td>\n",
       "      <td>Unknown</td>\n",
       "      <td>No emotion toward brand or product</td>\n",
       "    </tr>\n",
       "    <tr>\n",
       "      <th>6315</th>\n",
       "      <td>RT @mention RT @mention Google to Launch Major...</td>\n",
       "      <td>Unknown</td>\n",
       "      <td>No emotion toward brand or product</td>\n",
       "    </tr>\n",
       "    <tr>\n",
       "      <th>8146</th>\n",
       "      <td>I just noticed DST is coming this weekend. How...</td>\n",
       "      <td>iPhone</td>\n",
       "      <td>Negative emotion</td>\n",
       "    </tr>\n",
       "    <tr>\n",
       "      <th>8394</th>\n",
       "      <td>Need to buy an iPad2 while I'm in Austin at #s...</td>\n",
       "      <td>iPad</td>\n",
       "      <td>Positive emotion</td>\n",
       "    </tr>\n",
       "  </tbody>\n",
       "</table>\n",
       "</div>"
      ],
      "text/plain": [
       "                                                  Tweet    Brand_or_Product  \\\n",
       "7     #SXSW is just starting, #CTIA is around the co...             Android   \n",
       "9     Counting down the days to #sxsw plus strong Ca...               Apple   \n",
       "17    I just noticed DST is coming this weekend. How...              iPhone   \n",
       "20    Need to buy an iPad2 while I'm in Austin at #s...                iPad   \n",
       "21    Oh. My. God. The #SXSW app for iPad is pure, u...  iPad or iPhone App   \n",
       "24    Really enjoying the changes in Gowalla 3.0 for...         Android App   \n",
       "455      Before It Even Begins, Apple Wins #SXSW {link}               Apple   \n",
       "457      Before It Even Begins, Apple Wins #SXSW {link}               Apple   \n",
       "750   Google to Launch Major New Social Network Call...             Unknown   \n",
       "752   Google to Launch Major New Social Network Call...             Unknown   \n",
       "2136  Marissa Mayer: Google Will Connect the Digital...             Unknown   \n",
       "2138  Marissa Mayer: Google Will Connect the Digital...             Unknown   \n",
       "2437  Counting down the days to #sxsw plus strong Ca...               Apple   \n",
       "3759  Really enjoying the changes in Gowalla 3.0 for...         Android App   \n",
       "3771  #SXSW is just starting, #CTIA is around the co...             Android   \n",
       "4669  Oh. My. God. The #SXSW app for iPad is pure, u...  iPad or iPhone App   \n",
       "5105  RT @mention ��� GO BEYOND BORDERS! ��_ {link} ...             Unknown   \n",
       "5107  RT @mention ��� GO BEYOND BORDERS! ��_ {link} ...             Unknown   \n",
       "5108  RT @mention ��� Happy Woman's Day! Make love, ...             Unknown   \n",
       "5110  RT @mention ��� Happy Woman's Day! Make love, ...             Unknown   \n",
       "5648  RT @mention Google to Launch Major New Social ...             Unknown   \n",
       "5649  RT @mention Google to Launch Major New Social ...             Unknown   \n",
       "5650  RT @mention Google to Launch Major New Social ...             Unknown   \n",
       "5651  RT @mention Google to Launch Major New Social ...             Unknown   \n",
       "5652  RT @mention Google to Launch Major New Social ...             Unknown   \n",
       "5653  RT @mention Google to Launch Major New Social ...             Unknown   \n",
       "5654  RT @mention Google to Launch Major New Social ...             Unknown   \n",
       "6061  RT @mention Marissa Mayer: Google Will Connect...              Google   \n",
       "6063  RT @mention Marissa Mayer: Google Will Connect...             Unknown   \n",
       "6064  RT @mention Marissa Mayer: Google Will Connect...             Unknown   \n",
       "6065  RT @mention Marissa Mayer: Google Will Connect...              Google   \n",
       "6066  RT @mention Marissa Mayer: Google Will Connect...             Unknown   \n",
       "6067  RT @mention Marissa Mayer: Google Will Connect...              Google   \n",
       "6068  RT @mention Marissa Mayer: Google Will Connect...             Unknown   \n",
       "6069  RT @mention Marissa Mayer: Google Will Connect...             Unknown   \n",
       "6313  RT @mention RT @mention Google to Launch Major...             Unknown   \n",
       "6315  RT @mention RT @mention Google to Launch Major...             Unknown   \n",
       "8146  I just noticed DST is coming this weekend. How...              iPhone   \n",
       "8394  Need to buy an iPad2 while I'm in Austin at #s...                iPad   \n",
       "\n",
       "                               Sentiment  \n",
       "7                       Positive emotion  \n",
       "9                       Positive emotion  \n",
       "17                      Negative emotion  \n",
       "20                      Positive emotion  \n",
       "21                      Positive emotion  \n",
       "24                      Positive emotion  \n",
       "455                     Positive emotion  \n",
       "457                     Positive emotion  \n",
       "750   No emotion toward brand or product  \n",
       "752   No emotion toward brand or product  \n",
       "2136  No emotion toward brand or product  \n",
       "2138  No emotion toward brand or product  \n",
       "2437                    Positive emotion  \n",
       "3759                    Positive emotion  \n",
       "3771                    Positive emotion  \n",
       "4669                    Positive emotion  \n",
       "5105  No emotion toward brand or product  \n",
       "5107  No emotion toward brand or product  \n",
       "5108  No emotion toward brand or product  \n",
       "5110  No emotion toward brand or product  \n",
       "5648  No emotion toward brand or product  \n",
       "5649  No emotion toward brand or product  \n",
       "5650  No emotion toward brand or product  \n",
       "5651  No emotion toward brand or product  \n",
       "5652  No emotion toward brand or product  \n",
       "5653  No emotion toward brand or product  \n",
       "5654  No emotion toward brand or product  \n",
       "6061                    Positive emotion  \n",
       "6063  No emotion toward brand or product  \n",
       "6064  No emotion toward brand or product  \n",
       "6065                    Positive emotion  \n",
       "6066  No emotion toward brand or product  \n",
       "6067                    Positive emotion  \n",
       "6068  No emotion toward brand or product  \n",
       "6069  No emotion toward brand or product  \n",
       "6313  No emotion toward brand or product  \n",
       "6315  No emotion toward brand or product  \n",
       "8146                    Negative emotion  \n",
       "8394                    Positive emotion  "
      ]
     },
     "execution_count": 134,
     "metadata": {},
     "output_type": "execute_result"
    }
   ],
   "source": [
    "# inspecting duplicate rows\n",
    "df.loc[df.duplicated(keep=False)]"
   ]
  },
  {
   "cell_type": "markdown",
   "id": "bbd3705a",
   "metadata": {},
   "source": [
    "After previewing column value counts and inspecting duplicates, we conclude that the duplicates are retweets. A retweet is a twitter feature that allows users to quickly share an existing tweet to their own followers. [(Twitter FAQ)](https://help.twitter.com/en/using-twitter/retweet-faqs#:~:text=A%20Retweet%20is%20a%20re,re%2Dposting%20someone%20else's%20content.) These duplicates are therefore intentional and are meant to show an agreement, we will keep the duplicates. "
   ]
  },
  {
   "cell_type": "code",
   "execution_count": null,
   "id": "2f0bdec6",
   "metadata": {},
   "outputs": [],
   "source": []
  },
  {
   "cell_type": "markdown",
   "id": "66e8e585",
   "metadata": {},
   "source": [
    "### Identify/Clean Target\n",
    "We are classifying the sentiment being expressed through the tweet. 'Sentiment' column will serve as the target. Let's look through our target."
   ]
  },
  {
   "cell_type": "code",
   "execution_count": 135,
   "id": "81b1d96c",
   "metadata": {
    "scrolled": false
   },
   "outputs": [
    {
     "data": {
      "text/plain": [
       "No emotion toward brand or product    5155\n",
       "Positive emotion                      2869\n",
       "Negative emotion                       545\n",
       "I can't tell                           151\n",
       "Name: Sentiment, dtype: int64"
      ]
     },
     "execution_count": 135,
     "metadata": {},
     "output_type": "execute_result"
    }
   ],
   "source": [
    "# inspecting 'Sentiment' \n",
    "df['Sentiment'].value_counts(dropna=False)"
   ]
  },
  {
   "cell_type": "code",
   "execution_count": 136,
   "id": "56d00177",
   "metadata": {},
   "outputs": [],
   "source": [
    "# creating plot labels\n",
    "labels = ['No emotion toward brand or product','Positive emotion','Negative emotion','I can\\'t tell']\n",
    "# adding line break to labels to better fit in plot\n",
    "labels = [ '\\n'.join(wrap(l, 12)) for l in labels ]"
   ]
  },
  {
   "cell_type": "code",
   "execution_count": 147,
   "id": "fb4abe7a",
   "metadata": {
    "scrolled": true
   },
   "outputs": [
    {
     "data": {
      "image/png": "[encoded data removed]",
      "text/plain": [
       "<Figure size 360x360 with 1 Axes>"
      ]
     },
     "metadata": {},
     "output_type": "display_data"
    }
   ],
   "source": [
    "# visual distribution of overall sentiment values\n",
    "descending = df.groupby('Sentiment').size().sort_values().index[::-1]\n",
    "plt.figure(figsize=(5,5))\n",
    "sns.countplot(x=df['Sentiment'], \n",
    "              data=df,\n",
    "              order=descending,\n",
    "              color='deepskyblue')\n",
    "plt.xlabel('Sentiment', weight='bold', fontsize=13)\n",
    "plt.xticks([0,1,2,3], labels, rotation=0, fontsize=11)\n",
    "plt.ylabel('Count', weight='bold', fontsize=13)\n",
    "plt.title('Tweet Sentiment Distribution', weight='bold', size=16);"
   ]
  },
  {
   "cell_type": "code",
   "execution_count": 115,
   "id": "5d18226f",
   "metadata": {
    "scrolled": true
   },
   "outputs": [
    {
     "data": {
      "text/plain": [
       "No emotion toward brand or product    0.591170\n",
       "Positive emotion                      0.329014\n",
       "Negative emotion                      0.062500\n",
       "I can't tell                          0.017317\n",
       "Name: Sentiment, dtype: float64"
      ]
     },
     "execution_count": 115,
     "metadata": {},
     "output_type": "execute_result"
    }
   ],
   "source": [
    "df['Sentiment'].value_counts(dropna=False, normalize=True)"
   ]
  },
  {
   "cell_type": "code",
   "execution_count": 116,
   "id": "6a089aa7",
   "metadata": {
    "scrolled": false
   },
   "outputs": [
    {
     "data": {
      "text/plain": [
       "151"
      ]
     },
     "execution_count": 116,
     "metadata": {},
     "output_type": "execute_result"
    }
   ],
   "source": [
    "# counting number of tweets with \"I can't tell\" as a sentiment value\n",
    "len(df.loc[df['Sentiment'] == \"I can't tell\"])"
   ]
  },
  {
   "cell_type": "markdown",
   "id": "fb0719d6",
   "metadata": {},
   "source": [
    "Distribution summary of target: More than half of the tweets have been determined to be of neutral sentiment. A significant amount of tweets are of positive sentiment, about 33%. Only a small amount of tweets are of negative sentiment, about 6%. We have an imbalanced classification problem involving four classes. If the model does not support imbalanced classification problems, we will need to modify the parameters to factor in the target's imbalance. Only 151 or about 2% of the tweets have been determined to not have an explicit sentiment and have been labeled as having an \"I can't tell sentiment\". We will revisit this value. With so few values we will consider whether to drop tweets with \"I can't tell\" sentiment values or look into whether we can use the tweet text to reclassify the sentiment value into one of the other three sentiment values (ie: TextBlob). "
   ]
  },
  {
   "cell_type": "markdown",
   "id": "00a92af2",
   "metadata": {},
   "source": [
    "We will rename the sentiment values so that they are concise while creating a new explicit target column and then move on to the features. "
   ]
  },
  {
   "cell_type": "code",
   "execution_count": 149,
   "id": "7a9d6958",
   "metadata": {},
   "outputs": [
    {
     "data": {
      "text/plain": [
       "Neutral         5155\n",
       "Positive        2869\n",
       "Negative         545\n",
       "I can't tell     151\n",
       "Name: target, dtype: int64"
      ]
     },
     "execution_count": 149,
     "metadata": {},
     "output_type": "execute_result"
    }
   ],
   "source": [
    "# defining dictionary map and mapping dictionary on column\n",
    "# keeping \"I can't tell\" as is for now\n",
    "sentiment_map = {\n",
    "    'No emotion toward brand or product': 'Neutral',\n",
    "    'Positive emotion': 'Positive',\n",
    "    'Negative emotion': 'Negative',\n",
    "    \"I can't tell\": \"I can't tell\"}\n",
    "\n",
    "df['target'] = df['Sentiment'].map(sentiment_map)\n",
    "df['target'].value_counts(dropna=False)"
   ]
  },
  {
   "cell_type": "markdown",
   "id": "8e5eb667",
   "metadata": {},
   "source": [
    "### Data Cleaning\n",
    "We will explore the features and consider engineering additional features. \n",
    "The data needs to be able to fit a scikit-learn model. We will standardize the case of the data, use a tokenizer to convert the full tweets into lists of individual words. We will then compare the raw word frequency distributions of each sentiment. "
   ]
  },
  {
   "cell_type": "markdown",
   "id": "5e30182a",
   "metadata": {},
   "source": [
    "#### Feature: Brand or Product"
   ]
  },
  {
   "cell_type": "code",
   "execution_count": 148,
   "id": "108de611",
   "metadata": {},
   "outputs": [
    {
     "data": {
      "text/plain": [
       "Unknown                            5551\n",
       "iPad                                910\n",
       "Apple                               640\n",
       "iPad or iPhone App                  451\n",
       "Google                              412\n",
       "iPhone                              288\n",
       "Other Google product or service     282\n",
       "Android App                          78\n",
       "Android                              74\n",
       "Other Apple product or service       34\n",
       "Name: Brand_or_Product, dtype: int64"
      ]
     },
     "execution_count": 148,
     "metadata": {},
     "output_type": "execute_result"
    }
   ],
   "source": [
    "# inspecting 'Brand or Product' feature\n",
    "df['Brand_or_Product'].value_counts(dropna=False)"
   ]
  },
  {
   "cell_type": "markdown",
   "id": "6ce04f5f",
   "metadata": {},
   "source": [
    "Reviewing the values, we can see that it is possible to make create a column solely for Brand."
   ]
  },
  {
   "cell_type": "code",
   "execution_count": 151,
   "id": "46818ec9",
   "metadata": {
    "scrolled": false
   },
   "outputs": [
    {
     "data": {
      "text/plain": [
       "Unknown    0.636583\n",
       "Apple      0.266399\n",
       "Google     0.097018\n",
       "Name: Brand, dtype: float64"
      ]
     },
     "execution_count": 151,
     "metadata": {},
     "output_type": "execute_result"
    }
   ],
   "source": [
    "# defining dictionary for brand and mapping dictionary on the 'Brand or Product' values\n",
    "brand_dict = {\n",
    "    'Unknown': \"Unknown\",\n",
    "    'iPad': \"Apple\",\n",
    "    'Apple': \"Apple\",\n",
    "    'iPad or iPhone App': \"Apple\",\n",
    "    'Google': \"Google\",\n",
    "    'iPhone': \"Apple\",\n",
    "    'Other Google product or service': \"Google\",\n",
    "    'Android App': \"Google\",\n",
    "    'Android': \"Google\",\n",
    "    'Other Apple product or service': \"Apple\"}\n",
    "# creating new 'Brand' column\n",
    "df['Brand'] = df['Brand_or_Product'].map(brand_dict)\n",
    "# confirming new column\n",
    "df['Brand'].value_counts(dropna=False, normalize=True)"
   ]
  },
  {
   "cell_type": "code",
   "execution_count": 175,
   "id": "706b8ee7",
   "metadata": {},
   "outputs": [
    {
     "data": {
      "image/png": "[encoded data removed]",
      "text/plain": [
       "<Figure size 360x360 with 1 Axes>"
      ]
     },
     "metadata": {},
     "output_type": "display_data"
    }
   ],
   "source": [
    "# visual distribution of Apple and Google brand values\n",
    "plt.figure(figsize=(5,5))\n",
    "classes = ['Apple', 'Google']\n",
    "sns.countplot(x=df['Brand'], \n",
    "              data=df, \n",
    "              order=classes,\n",
    "              color='deepskyblue')\n",
    "plt.xlabel('Brand', weight='bold', fontsize=14)\n",
    "plt.xticks(fontsize=13)\n",
    "plt.ylabel('Count', weight='bold', fontsize=14)\n",
    "plt.title('Tweet Distribution by Brand', weight='bold', size=16);"
   ]
  },
  {
   "cell_type": "markdown",
   "id": "d966116b",
   "metadata": {},
   "source": [
    "Our new column makes it clear that there are many unknowns, at 63%. We can also see that there are far fewer tweets about Google compared to tweets about Apple. We will see if we are able to convert any of the unknown brand values to apple of google."
   ]
  },
  {
   "cell_type": "markdown",
   "id": "b92189b5",
   "metadata": {},
   "source": [
    "#### Feature: Tweet"
   ]
  },
  {
   "cell_type": "code",
   "execution_count": 154,
   "id": "d581c404",
   "metadata": {},
   "outputs": [
    {
     "data": {
      "text/plain": [
       "RT @mention Marissa Mayer: Google Will Connect the Digital &amp; Physical Worlds Through Mobile - {link} #sxsw                               5\n",
       "RT @mention Google to Launch Major New Social Network Called Circles, Possibly Today {link} #sxsw                                            4\n",
       "RT @mention Marissa Mayer: Google Will Connect the Digital &amp; Physical Worlds Through Mobile - {link} #SXSW                               4\n",
       "RT @mention Google to Launch Major New Social Network Called Circles, Possibly Today {link} #SXSW                                            3\n",
       "Marissa Mayer: Google Will Connect the Digital &amp; Physical Worlds Through Mobile - {link} #sxsw                                           2\n",
       "                                                                                                                                            ..\n",
       "If you haven't already, download the (free) #SXSW music sampler from iTunes {link} (iTunes link). It's good!                                 1\n",
       "RT @mention Google denies rumors about launching Circles at SXSW {link} #Facebook #Google #SXSW                                              1\n",
       "RT @mention Thanks to everyone for making it a great day in the shop today. if you're in Austin, come by and see us tomorrow {link} #sxsw    1\n",
       "RT @mention Apple is opening up a temporary store in downtown Austin for #SXSW and the iPad 2 launch  {link}                                 1\n",
       "The exhibit hall is open at #SXSW! Visit #EMC for a chance to win an iPad 2! @mention                                                        1\n",
       "Name: Tweet, Length: 8693, dtype: int64"
      ]
     },
     "execution_count": 154,
     "metadata": {},
     "output_type": "execute_result"
    }
   ],
   "source": [
    "# inspecting 'Brand or Product' feature\n",
    "df['Tweet'].value_counts(dropna=False)"
   ]
  },
  {
   "cell_type": "code",
   "execution_count": 166,
   "id": "b5b1d9ce",
   "metadata": {},
   "outputs": [
    {
     "data": {
      "text/plain": [
       "'Excited to meet the @samsungmobileus at #sxsw so I can show them my Sprint Galaxy S still running Android 2.1.   #fail'"
      ]
     },
     "execution_count": 166,
     "metadata": {},
     "output_type": "execute_result"
    }
   ],
   "source": [
    "# inspecting full text of a tweet\n",
    "df.Tweet[10]"
   ]
  },
  {
   "cell_type": "markdown",
   "id": "1747dada",
   "metadata": {},
   "source": [
    "We will create new column with processed 'Tweet' text, where the text will be transformed into a list of words."
   ]
  },
  {
   "cell_type": "code",
   "execution_count": 169,
   "id": "af310474",
   "metadata": {
    "scrolled": true
   },
   "outputs": [
    {
     "name": "stdout",
     "output_type": "stream",
     "text": [
      "[['.@wesley83', 'I', 'have', 'a', '3G', 'iPhone.', 'After', '3', 'hrs', 'tweeting', 'at', '#RISE_Austin,', 'it', 'was', 'dead!', 'I', 'need', 'to', 'upgrade.', 'Plugin', 'stations', 'at', '#SXSW.'], ['@jessedee', 'Know', 'about', '@fludapp', '?', 'Awesome', 'iPad/iPhone', 'app', 'that', \"you'll\", 'likely', 'appreciate', 'for', 'its', 'design.', 'Also,', \"they're\", 'giving', 'free', 'Ts', 'at', '#SXSW']]\n"
     ]
    }
   ],
   "source": [
    "processed_data = [d.split() for d in df['Tweet'].to_list()]\n",
    "print(processed_data[:2])"
   ]
  },
  {
   "cell_type": "code",
   "execution_count": null,
   "id": "19bc5bda",
   "metadata": {},
   "outputs": [],
   "source": [
    "create new column with hashtags from tweets"
   ]
  },
  {
   "cell_type": "code",
   "execution_count": null,
   "id": "276a5d5b",
   "metadata": {},
   "outputs": [],
   "source": [
    "detertmine which preprocessing should be done before test train split\n",
    "google \n",
    "check in\n"
   ]
  },
  {
   "cell_type": "code",
   "execution_count": null,
   "id": "1253b93a",
   "metadata": {},
   "outputs": [],
   "source": [
    "# a example of the text  \n",
    "df.tweet[0]\n",
    "\n",
    "# \n",
    "tokenize\n",
    "stopword removal nltk nltk.download\n",
    "stop_words=set(stopwords.words)\n",
    "add stopwords\n",
    "Lexicon Normalization - lemmatization\n",
    "Lemmatization\n",
    "returns real words. Reduces inflected words properly ensuring the root word belongs to the language.\n",
    "from nltk.stem import WordNetLemmatizer 22:21\n",
    "    lematized_review=[]\n",
    "    for w in filtered review:\n",
    "        lemmatization \n",
    "Feature engineering, bag of words: Document Term Matrix\n",
    "from sklearn.feature_extraction.text import CountVectorizer     \n",
    "# convert a collection of text documents to a matrix of token counts\n",
    "features = [ , ]\n",
    "\n",
    "however, TFIDF instead of BoW, it weighs the uniqueness of a word\n",
    "same instantiate and transform \n",
    "\n",
    "\n",
    "--- smote can also be done to text data\n"
   ]
  },
  {
   "cell_type": "code",
   "execution_count": 118,
   "id": "66916042",
   "metadata": {},
   "outputs": [],
   "source": [
    "# split tweet_text to create unprocessed_text - we'll make a visualization with this and compare it with preprocessed_text\n",
    "# df['unprocessed_text'] = df['tweet_text'].str.split()"
   ]
  },
  {
   "cell_type": "code",
   "execution_count": 89,
   "id": "1534accc",
   "metadata": {
    "scrolled": true
   },
   "outputs": [
    {
     "name": "stdout",
     "output_type": "stream",
     "text": [
      "Thanks to @mention for publishing the news of @mention new medical Apps at the #sxswi conf. blog {link} #sxsw #sxswh\n",
      "���@mention &quot;Apple has opened a pop-up store in Austin so the nerds in town for #SXSW can get their new iPads. {link} #wow\n",
      "Just what America needs. RT @mention Google to Launch Major New Social Network Called Circles, Possibly Today {link} #sxsw\n",
      "The queue at the Apple Store in Austin is FOUR blocks long. Crazy stuff! #sxsw\n",
      "Hope it's better than wave RT @mention Buzz is: Google's previewing a social networking platform at #SXSW: {link}\n",
      "SYD #SXSW crew your iPhone extra juice pods have been procured.\n",
      "Why Barry Diller thinks iPad only content is nuts @mention #SXSW {link}\n",
      "Gave into extreme temptation at #SXSW and bought an iPad 2... #impulse\n",
      "Catch 22��_ I mean iPad 2 at #SXSW : {link}\n",
      "Forgot my iPhone for #sxsw. Android only. Knife to a gun fight\n",
      "Kawasaki: key to enchantment = trustworthiness of Zappos + likeability of Richard Branson + product of Apple #sxsw #mccannsxsw #mrmworldwide\n",
      "Google no lanzara ningun producto en South by SouthWest #sxsw 2011 {link}\n",
      "Comprando mi iPad 2 en el #SXSW (@mention Apple Store, SXSW w/ 62 others) {link}\n",
      "I can now say that Google got me drunk #sxsw #h4ckers\n",
      "ipad is a slow resting heartrate  #tapworthy #sxsw #gsdm about leisure vs quick results on iphone\n",
      "Walked by the mobile Apple store in austin.  Line was insane. #sxsw\n",
      "This Waze vs Google discussion is one of the best I have seen at #sxsw. We need more competitors going head to head here.\n",
      "Wow folks, make sure that iPhone ringer is turned ALL the way up when u have to be up pre-sunrise for a flight. #internalalarmclockFTW #sxsw\n",
      "Let's see: Google announcing Circles, Obama in Austin, #SXSW donates proceeds to Japan. Ho hum\n",
      "@mention :) Maybe not *entirely* HD (Flip? iPhone? Other XL2 footage?) -- but certainly your concerts at #SXSW. It's gonna be grand.\n",
      "@mention @mention @mention #Platformer CI di venues #SXSW pake 3 app 4sq API,D cnth : Tweetdeck etc (via : iPhone, Android, iPad and PC)\n",
      "Google's @mention &quot;credit card cos. know with 98% accuracy 2 yrs before that you're going to get divorced&quot; {link} #sxsw\n",
      "@mention @mention be sure to check out the @mention jukebox app running party music for #SXSW. With the @mention API.  {link}\n",
      "Hijacked @mention iPhone since mine is DOA. Muahahahahhaahahaa. #SXSW partay time. Thx @mention for dinner\n",
      "Apple is &quot;the classiest, fascist company in America,&quot; says @mention #sxsw\n",
      "I'd take #sxsw hashtags over scheen, ipad/ipad2, tv or sports tweets any day, but for those needing a filter��_ {link}\n",
      "The iPad 2 is the also a cartoonishly large digital camera. #SXSW #CStejas {link}\n",
      "O no,not again {link} Google Circles Juwan Howard #sxsw\n",
      "I just realized my iPhone's gonna go nuts with Foursquare and Gowalla updates. #SXSW\n",
      "At the Team Android party. Can't find it on Gowalla or Foursquare, so um, there you go. #sxsw\n",
      "Just buy an iPad 2 at #SXSW? Give it the finger. Better yet, give it four of 'em :: {link}\n",
      "Vai come̤ar a palestra do  @mention ex-chief evangelist of Apple #sxsw\n",
      "Man gets arrested at #sxsw for not having an iPhone.  {link}\n",
      "iPhone crashed in front of #sxsw Apple pop-up. #bestworstthingever\n",
      "Did... what my mom might call The Big at #SXSW. Power plant, CNN, Google, and offchain set by Trombone Shorty at PBS. So sad missed Rye Rey\n",
      "William Patry, google, says most authors dont care about copyright, they care about income. #sxsw but what models?\n",
      "Any blackberry apps for #sxsw ?? Pls let @mention and I know...cheers...will have iphone too...:-)\n",
      "ipadi alacagimiz yer belli oldu:  Apple to Open Pop-Up Shop at Austin #SXSW {link} via @mention @mention\n",
      "Saw a bunch of security guards playing with iPads at the apple store after hours last night #sxsw {link}\n",
      "My #agnerd confession, using laptop, iPad and blackberry to follow #SXSW from afar to see #agchat rock it\n",
      "I'm bummed that I missed the Team Android party at #SXSW... Oh well, CTIA is right around the corner... Boom, roasted...\n",
      "Next up: designing interfaces for iPad. Or should I hit up &quot;Your Brand is Obsolete&quot;? #SXSW\n",
      "Thank goodness for these two hour breaks where I have turn off my iPhone, or my battery would be TOAST!  #sxsw\n",
      "Temp store #sxsw  @mention Apple Store, SXSW {link}\n",
      "I wish the apple store employees cheering for all the people in line at the pop up apple store would cheer me on while I do timesheets #SXSW\n",
      "I won't be at #sxsw and I won't be in line to buy iPad 2.0 tomorrow. #notwinning.\n",
      "Looks like the line for the Apple pop-up store on Congress Ave is already down to the end of the block..  #SXSW #SteveJobsWins\n",
      "Good place to test it. Will it be edgy enough? @mention Q2 - Google's check in offers? Testing at #sxsw {link} #smccolumbus\n",
      "Hope there's time left for Poked Liked and retweeted and Google love story (social vs search). #sxsw\n",
      "#sxsw: @mention We think we control our identities on Facebook, but as Google becomes an AI our profile will be built of what we do\n",
      "Google doesn't place any value on your domain extension. They are all equal. #SXSW #qagb\n",
      "Reports of @mention introducing a new social media platform at #SXSW were premature, but hopefully not overly optimistic {link}\n",
      "Google's Facebook-killer &quot;Circles&quot; to be unveiled today at #SXSW? {link}\n",
      "@mention FourSquare is pushing their 3.0 iPhone/Android app heavily here at #sxsw. Wish they gave your webOS client equal billing.\n",
      "Liveblog from #SXSW: Can indie #iPhone game development survive? {link} #games\n",
      "is walking around #SXSW while staring down at my iPhone 4... Just like everyone else.\n",
      "Google might launching a social network called Circles at #SXSW ... of course {link}\n",
      "&quot;Google products need to be condensed&quot;,  #Merissa #Mayor at #SXSW Conference 2011 {link}\n",
      "#Apple, #Google, #Intel and Others Go Gaga for the Go Game | Fast Company {link} #SXSW #SocialMedia #createyourownadventure\n",
      "Bet on a GoogleBuzz-like #fail. People don't care about privacy, else they'd quitted FB/TW already RT @mention Google Circles will be __ #sxsw\n",
      "I am neither at #SXSW nor buying an iPad 2 today. I feel like my geek cred is basically gone.\n",
      "funny! iphone correction? RT @mention Dashing off to learn a thing or two about longhorn journalism #SXSW\n",
      "Diller: Why would you do product only for the iPad or any one form factor in today's multichannel, multi platform world? #SXSW #KetchSX\n",
      "+1 ���@mention +1 RT @mention Petricone says Google TV is just a browser. I don't think that's correct. #SXSW�۝\n",
      "@mention is biyt.ly for email, like google voice for email #loveit #sxsw #startupbus\n",
      "the panelist from Texas Observer called the iPad a lean back device #SXSW #in #newsapp #i'mconfused\n",
      "I agree with @mention on their @mention concerns, but your #sxsw #microformats panelist is just condescending and rude.\n",
      "I would give my Apple stock to be more like @mention {link} #SXSW\n",
      "need to give my iPhone &amp; liver a rest. #SXSW\n",
      "I feel like my iPhone: Always on, always doing something, running out of battery fast. #sxsw\n",
      "LOL. #Apple erects temporary Apple Store in #Austin for #SXSW to sell #iPad 2. {link}\n",
      "Line a mile long outside. Lucky to get in just to sit on the floor -Your Mom Has An iPad. I miss the old days at #sxsw before 40% + growth!\n",
      "Barry Diller interview at #SXSW was pretty high level. Does not understand the Daily on iPad. All company valuations are high.\n",
      "Hi, if came out here for #sxsw and in line at the temp apple store to buy an ipad2 for the fuck home. #douchebloggers\n",
      "Nuts.  ���@mention @mention (via @mention #sxsw ipad store sold out of everything except 64gig wifi only white�۝\n",
      "DANG RT @mention Confirmed! Apple store 2 week popup in Austin for #SXSW {link} (via @mention who gave us no credit! )\n",
      "Do the Humpty hump!  Google ACLU Party like its 1986! #SXSW\n",
      "This iphone game presentation is being delivered on a windows laptop.  #amusing #sxsw\n",
      "another one? holy social fragmentation&gt;Google to Launch New Social Network Called Circles, Possibly 2day at #sxsw {link} @mention\n",
      "Ok. Someone's trying to tell me something: For the 2nd day in a row I got to the #sxsw Apple store right as it closed.\n",
      "Google/Bing search smackdown panel is in a giant room with not enough chairs. Hope you have a search for &quot;floor-sitting!&quot; #SXSW\n",
      "Always wanted this! RT @mention Sound of My Voice was shot exploiting Apple &amp; Best Buy's 14-day return policy on iMacs. Brilliant. #sxsw\n",
      "It is also limited in its abilities. Its a balance. RT @mention @mention An iPad is cheaper than most laptops. #newsapps #sxsw\n",
      "Anyone who was going to buy a new iPad should donate to #Japan #tsunami victims instead. #sxsw\n",
      "At home today. @mention at #sxsw: &quot;apple comes up with cool technology no one's ever heard of because they don't go to conferences&quot;\n",
      "The hive of innovation but yet every booth at the #SXSW trade show had the exact same promotional idea: iPad 2 Raffle!\n",
      "Yikes. Google is launching 'Circles' today at #sxsw? {link}\n",
      "RT @mention @mention to Launch Social Network Called Circles, Possibly Today {link} #sxsw via: @mention - This should be interesting ^ JL\n",
      "The session #designingforkids is changing my mind about my future kid's relationship with the iPhone. #sapient #sxsw\n",
      "RT @mention #sxsw @mention #devops: @mention &quot;The Internets is Mean/Our Systems Are Complex; go Google 'How complex systems fail by doctor&quot;\n",
      "RT @mention #sxsw: @mention We think we control our identities on Facebook, but as Google becomes an AI our profile will be built of what we do\n",
      "standing on a long line surrounded by unemployed techies from brooklyn!  am i at #sxsw or at the apple store on 5th ave waiting for ipad?!\n",
      "RT @mention another one? holy social fragmentation&gt;Google to Launch New Social Network Called Circles, Possibly 2day at #sxsw {link} @mention\n",
      "RT @mention Apple, Google, Intel ... Go Gaga for The Go Game by @mention @mention  {link} (cc @mention @iangogame) #LI #SXSW\n",
      "RT @mention Best thing I've heard this weekend at #SXSW &quot;I gave my iPad 2 money to #Japan relief. I don't ne... {link}\n",
      "RT @mention Demo of Google Hotpot at #bettersearch panel: still pull search, but personalized. Not yet serendipitous? #SXSW\n",
      "RT @mention Design for iPad is like design 101. Will someone give a talk and assume that we didn't all ditch our prev experience #sxsw\n",
      "RT @mention Gary Vaynerchuck l�_gger ner winelibrary.tv och sl�_pper i st�_llet Iphone-appen Daily Grape. #thankyoueconomy #sxsw #swesxsw\n",
      "RT @mention Google is announcing a social network &quot;Circles&quot; (via #SXSW tweets). Interesting. Myopia will cause Buzz jokes. But...\n",
      "TR @mention Google (tries again) to launch a new social network called Circles: {link} #sxsw {link}\n",
      "RT @mention Has spontaniety in life been replaced by technology? When your iPhone battery dies you go home. Great ? At #busy #sxsw\n",
      "RT @mention Hmm....only 9? #SXSW right-brain #mwrc11 left-brain?? :) RT @mention @mention at #SXSW 9 out of 10 attendees have Mac or iPad\n",
      "RT @mention my biggest mistake since South By Southwest last year? writin a book bout iPhone photography instead of makin a photography iPhone app #SXSW\n",
      "RT @mention Official #SXSW App ���SXSW GO�۪ bit.ly/hmiiGa #android #iphone #ipad\n",
      "RT @mention Reactions to Google Circles news so far range from &quot;not again&quot; to &quot;please rescue me from the Facebook.&quot; #sxsw\n",
      "RT @mention RT @mention @mention @mention Austin street closures during SXSW in Google Map form: {link} #sxsw #austin\n",
      "RT @mention Selfishness as seen through brands: Mac versus Apple. Apple wins: they are masters at being self-referential  #sxsw\n",
      "RT @mention So many Google products. isn't it time to  transition them down the chain and into  features? But features of what product? #SXSW\n",
      "OH @mention the Apple Pop-Up Store: &quot;Oh... you have the old one.&quot; #crazytimes #sxsw\n",
      "RT @mention The iPad 1 is so March 11, 2011 4:59PM PST. #sxsw\n",
      "RT @mention Well damn, Apple setting up a &quot;pop-up&quot; shop at #SXSW {link}\n",
      "RT @mention Win an #OpenBeta6 iPad @mention this #sxsw panel {link}  today @mention 11! #usguys cc @mention  #DgtlTribe #sxswbuffalo\n",
      "I think google circles was an effect of crop `circle` #SXSW #randomly\n",
      "How can google load those maps so fast, yet I can barely post a tweet haha #sxsw\n",
      "Finally got my #SXSW schedule on my #google calendar. #coudbeeasier\n",
      "Killer thought from @mention - if you are not paying for a service, it's probably you that is being sold (ref Google, TV ads etc)#sxsw #psfk\n",
      "Google should put those engineers formerly behind real estate listings into renewing the Google Checkout project. #SXSW\n",
      "Checking out Mistakes I Made Building Netflix for the iPhone at #SXSW.\n",
      "{link} #netflixiphone\n",
      "curious how iPad 2 sales went in Austin, TX where a lot of potential iPad 2 buyers are attending #SXSW\n",
      "Anyone know status of iPad 2s in Austin pop-up store? Sold out? Getting more? #ipad2 #sxsw\n",
      "The new iPad is like fight club, you don't talk about fight club   #SXSW\n",
      "@mention Picked up mophie juice boost pack for iPhone. This chick -and wknd- calls for ample juice #SXSW // 'hight-tech energy drink'\n",
      "Original products for 1 device is nuts. #sxsw. Eg the iPad\n",
      "Google Maps car just drove by. Might leave a distorted view of Austin. #sxsw\n",
      "Google maps used to provide common reference points and printed for fast paced on the ground reactions #arabspring #SXSW\n",
      "Google Circles - looking forward to this. sadly no launch at #SXSW\n",
      "At the airport playing my fav game:  &quot;Are You Going to #SXSW?&quot; Wearing denim on denim? You're going.  Charging 3+ Apple products? You too.\n",
      "@mention RWW: Google Circles will be ______    #sxsw {link}\n",
      "Regardless of keyword - Google thinks local. #mobilesearch #SXSW #SXSWi\n",
      "How to design for baby boomers: DON'T. John McRee on #iPad design #sxsw #yourmom\n",
      "Line for Source Code is even longer than for iPad 2. Take that, Apple. #sxsw\n",
      "After #SXSW I will never again take a fully charged IPhone for granted; 24/7 pics edit tweet 4square apps =zap!\n",
      "Sitting at a bar listening to music w 3 ppl who r all nose down on iPhone. Waitress looks confused. #sxsw\n",
      "Entrapment. Layer upon layer RT: @mention Google Circles will be ______ #sxsw&quot;\n",
      "I'll bet there's a lot of nerds at #SXSW using the #iPhone Light Saber app in barroom brawls instead of their fists.\n",
      "I really think that most of the iPad 2 stock went down to #SXSW.\n",
      "Apple setting up a temporary store at #SXSW to sell the #iPad2. Crazy? Brilliant? Convenient? {link}  #apple #news #SXSWi\n",
      "This @mention article about #SXSW is so good I'm linking to it on an iPhone on a train, which is the opposite of easy: {link}\n",
      "Like @mention I've now seen most of Austin in Google Streetview checking out apartments for #sxsw. Austin is not easy on the click.\n",
      "&quot;multiple approaches to monetization&quot; re: iPhone game dev &quot;but ads would cheapen our product&quot; ok, good luck with that #sxsw\n",
      "iPhone battery maintenance is a fine art at #sxsw\n",
      "Google actually does have an official death policy. One of only a few. via @mention #digitaldeath #sxsw\n",
      "In case our rabbits forgot theirs at home! Apple Opening Pop-Up Store In Austin For #SXSW {link}\n",
      "RT never use mine on the go RT @mention &quot;You're probably using your iPad on the go.&quot; #disagree #SXSW #uxdes\n",
      "Geez #sxsw people are eating this up. Another line outside the apple store for iPad 2 in austin {link}\n",
      "From #SXSW: @mention says @mention playing with NFC for next gen devices. Nexus S now, iPhone 5 next?\n",
      "It's funny watching a room full of people hold their iPad in the air to take a photo. Like a room full of tablets staring you down. #SXSW\n",
      "@mention yeah, we have @mention , Google has nothing on us :) #SXSW\n",
      "@mention Yes, the Google presentation was not exactly what I was expecting. #sxsw\n",
      "&quot;Do you know what Apple is really good at? Making you feel bad about your Xmas present!&quot; - Seth Meyers on iPad2 #sxsw #doyoureallyneedthat?\n",
      "How much you want to bet Apple is disproportionately stocking the #SXSW pop-up store with iPad 2? The influencer/hipsters thank you\n"
     ]
    }
   ],
   "source": [
    "# inspecting tweets with \"I can't tell\" sentiment values  \n",
    "for i in df.loc[df['Sentiment'] == \"I can't tell\"]['Tweet']:\n",
    "    print(i)"
   ]
  },
  {
   "cell_type": "code",
   "execution_count": 93,
   "id": "bb755249",
   "metadata": {
    "scrolled": true
   },
   "outputs": [
    {
     "name": "stdout",
     "output_type": "stream",
     "text": [
      "@teachntech00 New iPad Apps For #SpeechTherapy And Communication Are Showcased At The #SXSW Conference http://ht.ly/49n4M #iear #edchat #asd\n",
      "Holler Gram for iPad on the iTunes App Store -  http://t.co/kfN3f5Q (via @marc_is_ken) #sxsw\n",
      "Attn: All  #SXSW frineds, @mention Register for #GDGTLive  and see Cobra iRadar for Android. {link}\n",
      "Anyone at  #sxsw want to sell their old iPad?\n",
      "Anyone at  #SXSW who bought the new iPad want to sell their older iPad to me?\n",
      "At #sxsw.  Oooh. RT @mention Google to Launch Major New Social Network Called Circles, Possibly Today {link}\n",
      "SPIN Play - a new concept in music discovery for your iPad from @mention &amp; spin.com {link} #iTunes #sxsw @mention\n",
      "VatorNews - Google And Apple Force Print Media to Evolve? {link} #sxsw\n",
      "HootSuite - HootSuite Mobile for #SXSW ~ Updates for iPhone, BlackBerry &amp; Android: Whether you�۪re getting friend... {link}\n",
      "Hey #SXSW - How long do you think it takes us to make an iPhone case? answer @mention using #zazzlesxsw and we�۪ll make you one!\n",
      "Mashable! - The iPad 2 Takes Over SXSW [VIDEO] #ipad #sxsw #gadgets {link}\n",
      "For I-Pad ?RT @mention New #UberSocial for #iPhone now in the App Store includes UberGuide to #SXSW sponsored by ... {link}\n",
      "Orly....? ���@mention Google set to launch new social network #Circles today at #sxsw�۝\n",
      "Khoi Vinh (@mention says Conde Nast's headlong rush into iPad publishing was a &quot;fundamental misunderstanding&quot; of the platform #sxsw\n",
      "���@mention {link} &lt;-- HELP ME FORWARD THIS DOC to all Anonymous accounts, techies,&amp; ppl who can help us JAM #libya #SXSW\n",
      "��� WHAT? ��_ {link} ��_ #edchat #musedchat #sxsw #sxswi #classical #newTwitter\n",
      ".@mention @mention on the location-based 'fast, fun and future' - {link} (via @mention #sxsw\n",
      "���@mention @mention #Google Will Connect the Digital &amp; Physical Worlds Through Mobile - {link} #sxsw�۝ @mention\n",
      "{link} RT @mention &quot;Google before you tweet&quot; is the new &quot;think before you speak.&quot; - Mark Belinsky, #911tweets panel at #SXSW.\n",
      "{link} RT @mention Those at #SXSW check out the Holler Gram ipad app from @mention  {link}\n",
      "@mention  @mention &amp;  @mention having fun at #google [pic] #SXSW {link}\n",
      "&quot;via @mention : {link} Guy Kawasaki talks 'Enchanted' at SXSW - HE knows his stuff! #books #internet #Apple #sxsw  &quot;\n",
      "#futuremf @mention {link} spec for recipes on the web, now in google search: {link}  #sxsw\n",
      "#Smile RT @mention I think Apple's &quot;pop-up store&quot; in Austin would be a lot more interesting if it actually, you know... popped up #sxsw\n",
      "Agree. RT @mention Wait. FIONA APPLE is in town??? Somebody kidnap her and put her in a recording studio until she records a new album. #sxsw\n",
      "At #sxsw? @mention / @mention wanna buy you a drink. 7pm at Fado on 4th. {link} Join us!\n",
      "Check! RT @mention giving added value to location based services needs to battle check-in fatigue #google #pnid #sxsw\n",
      "Chilcott: @mention #SXSW stand talking with Blogger staff. Too late to win competition for best tweet mentioning @mention So no t-shirt.\n",
      "Gowalla's @mention promises to launch Foursquare check-in + Groupon rewards-type service at #SXSW. Finger's crossed. {link}\n",
      "Ha.ha. RT @mention #SXSW News: Yahoo.com is loosing search traffic to new site, Google.com. Doubt it will last tho w/ that weird name.\n"
     ]
    }
   ],
   "source": [
    "# inspecting tweets with \"I can't tell\" sentiment values  \n",
    "for i in df.loc[df['Sentiment'] == \"No emotion toward brand or product\"]['Tweet'][:30]:\n",
    "    print(i)"
   ]
  },
  {
   "cell_type": "markdown",
   "id": "44abbd59",
   "metadata": {},
   "source": [
    "### Build and Evaluate a Baseline Model with TfidfVectorizer and MultinomialNB\n",
    "Ultimately all data must be in numeric form in order to be able to fit a scikit-learn model. So we'll use a tool from sklearn.feature_extraction.text to convert all data into a vectorized format.\n",
    "\n",
    "Initially we'll keep all of the default parameters for both the vectorizer and the model, in order to develop a baseline score."
   ]
  },
  {
   "cell_type": "code",
   "execution_count": null,
   "id": "9542a3ee",
   "metadata": {},
   "outputs": [],
   "source": []
  },
  {
   "cell_type": "code",
   "execution_count": null,
   "id": "fab893c0",
   "metadata": {},
   "outputs": [],
   "source": [
    "############## Requirements\n",
    "1. Load the Data\n",
    "Use pandas and sklearn.datasets to load the train and test data into appropriate data structures. Then get a sense of what is in this dataset by visually inspecting some samples.\n",
    "\n",
    "2. Perform Data Cleaning and Exploratory Data Analysis with nltk\n",
    "Standardize the case of the data and use a tokenizer to convert the full posts into lists of individual words. Then compare the raw word frequency distributions of each category.\n",
    "\n",
    "3. Build and Evaluate a Baseline Model with TfidfVectorizer and MultinomialNB\n",
    "Ultimately all data must be in numeric form in order to be able to fit a scikit-learn model. So we'll use a tool from sklearn.feature_extraction.text to convert all data into a vectorized format.\n",
    "\n",
    "Initially we'll keep all of the default parameters for both the vectorizer and the model, in order to develop a baseline score.\n",
    "\n",
    "4. Iteratively Perform and Evaluate Preprocessing and Feature Engineering Techniques\n",
    "Here you will investigate three techniques, to determine whether they should be part of our final modeling process:\n",
    "\n",
    "Removing stopwords\n",
    "Using custom tokens\n",
    "Domain-specific feature engineering\n",
    "Increasing max_features\n",
    "5. Evaluate a Final Model on the Test Set\n",
    "Once you have chosen a final modeling process, fit it on the full training data and evaluate it on the test data."
   ]
  },
  {
   "cell_type": "markdown",
   "id": "70777757",
   "metadata": {},
   "source": [
    "data limitations: \n",
    "subjective, \"Oooh\" might be positive but was interpreted as i cant tell\n",
    "\n",
    "next steps:\n",
    "more accurate sentim ent determiners/ humans, saw a couple of tweets that were mislabeled \n"
   ]
  }
 ],
 "metadata": {
  "kernelspec": {
   "display_name": "Python (learn-env)",
   "language": "python",
   "name": "learn-env"
  },
  "language_info": {
   "codemirror_mode": {
    "name": "ipython",
    "version": 3
   },
   "file_extension": ".py",
   "mimetype": "text/x-python",
   "name": "python",
   "nbconvert_exporter": "python",
   "pygments_lexer": "ipython3",
   "version": "3.8.5"
  }
 },
 "nbformat": 4,
 "nbformat_minor": 5
}
